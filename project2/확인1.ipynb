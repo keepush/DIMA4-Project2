{
 "cells": [
  {
   "cell_type": "code",
   "execution_count": 2,
   "id": "6fd49763-16fc-474e-ae38-0565251686d7",
   "metadata": {},
   "outputs": [],
   "source": [
    "import pandas as pd\n",
    "import numpy as np"
   ]
  },
  {
   "cell_type": "code",
   "execution_count": 3,
   "id": "3f2025da-ebd8-42f6-a252-13c49fa4c0dc",
   "metadata": {},
   "outputs": [],
   "source": [
    "df = pd.read_csv('container1.csv')"
   ]
  },
  {
   "cell_type": "code",
   "execution_count": 4,
   "id": "aa1ea51d-3ed1-4146-b9b9-64122ba9f943",
   "metadata": {},
   "outputs": [
    {
     "data": {
      "text/plain": [
       "<bound method DataFrame.info of       Unnamed: 0  항명   호출부호                  선명  입항횟수  입항횟수.1  구분  외내  입출  \\\n",
       "0              0  부산   D8RV  PANSTAR GENIE NO.2  2022      77  최종  외항  출항   \n",
       "1              1  부산   D8FB       PANSTAR GENIE  2022      71  최종  외항  입항   \n",
       "2              2  부산   D8FB       PANSTAR GENIE  2022      71  최종  외항  출항   \n",
       "3              3  인천   BATD            MING YUE  2022      51  최종  외항  입항   \n",
       "4              4  인천   BATD            MING YUE  2022      51  최종  외항  출항   \n",
       "...          ...  ..    ...                 ...   ...     ...  ..  ..  ..   \n",
       "1164        1164  인천   BSDG             BEI HAI  2023      20  최종  외항  입항   \n",
       "1165        1165  부산   D8FB       PANSTAR GENIE  2023      38  최종  외항  입항   \n",
       "1166        1166  부산  DSQX2       SANSTAR DREAM  2023      39  최종  외항  입항   \n",
       "1167        1167  부산  DSQX2       SANSTAR DREAM  2023      39  최종  외항  출항   \n",
       "1168        1168  부산   D8RV  PANSTAR GENIE NO.2  2023      39  최종  외항  입항   \n",
       "\n",
       "        총톤수  ...           차항지           전출항지         선박용도  \\\n",
       "0     7,323  ...     SHIDAO PT  NAGOYA, AICHI  세미(혼재)컨테이너선   \n",
       "1     7,323  ...         OSAKA          OSAKA  세미(혼재)컨테이너선   \n",
       "2     7,323  ...         OSAKA          OSAKA  세미(혼재)컨테이너선   \n",
       "3     2,453  ...       DANDONG        DANDONG  세미(혼재)컨테이너선   \n",
       "4     2,453  ...       DANDONG        DANDONG  세미(혼재)컨테이너선   \n",
       "...     ...  ...           ...            ...          ...   \n",
       "1164  5,272  ...  ZHANGJIAGANG        TAICANG  세미(혼재)컨테이너선   \n",
       "1165  7,323  ...     SHIDAO PT          TOKYO  세미(혼재)컨테이너선   \n",
       "1166  5,319  ...       TSURUGA             마산  세미(혼재)컨테이너선   \n",
       "1167  5,319  ...       TSURUGA             마산  세미(혼재)컨테이너선   \n",
       "1168  7,323  ...         평택.당진  NAGOYA, AICHI  세미(혼재)컨테이너선   \n",
       "\n",
       "     외항:한국인선원수\\n내항:해기사선원수 외항:외국인선원수\\n내항:보통선원수  승객 예선 도선 부선호출부호1 부선호출부호2  \n",
       "0                     8.0                   9 NaN  N  N     NaN     NaN  \n",
       "1                     8.0                   9 NaN  N  N     NaN     NaN  \n",
       "2                     8.0                   9 NaN  N  N     NaN     NaN  \n",
       "3                     NaN                  15 NaN  Y  Y     NaN     NaN  \n",
       "4                     NaN                  15 NaN  Y  Y     NaN     NaN  \n",
       "...                   ...                 ...  .. .. ..     ...     ...  \n",
       "1164                  NaN                  18 NaN  Y  Y     NaN     NaN  \n",
       "1165                  8.0                   9 NaN  Y  Y     NaN     NaN  \n",
       "1166                  8.0                   9 NaN  N  N     NaN     NaN  \n",
       "1167                  8.0                   9 NaN  N  N     NaN     NaN  \n",
       "1168                  8.0                   9 NaN  Y  Y     NaN     NaN  \n",
       "\n",
       "[1169 rows x 29 columns]>"
      ]
     },
     "execution_count": 4,
     "metadata": {},
     "output_type": "execute_result"
    }
   ],
   "source": [
    "df.info"
   ]
  },
  {
   "cell_type": "code",
   "execution_count": 5,
   "id": "80bbdaa6-56e2-4aec-91a1-f654284f04b5",
   "metadata": {},
   "outputs": [
    {
     "data": {
      "text/plain": [
       "0        D8RV\n",
       "1        D8FB\n",
       "2        D8FB\n",
       "3        BATD\n",
       "4        BATD\n",
       "        ...  \n",
       "1164     BSDG\n",
       "1165     D8FB\n",
       "1166    DSQX2\n",
       "1167    DSQX2\n",
       "1168     D8RV\n",
       "Name: 호출부호, Length: 1169, dtype: object"
      ]
     },
     "execution_count": 5,
     "metadata": {},
     "output_type": "execute_result"
    }
   ],
   "source": [
    "df1 = df['호출부호']\n",
    "df1"
   ]
  },
  {
   "cell_type": "code",
   "execution_count": 6,
   "id": "28ee10b5-f258-4f00-89e0-c74d7cb6aa32",
   "metadata": {},
   "outputs": [
    {
     "data": {
      "text/plain": [
       "0          D8RV\n",
       "1          D8FB\n",
       "3          BATD\n",
       "5         VROO8\n",
       "9         DSQX2\n",
       "13         BATI\n",
       "15        3FMT9\n",
       "25        VRUH4\n",
       "27        5VHA7\n",
       "29         BSDG\n",
       "31        VREU7\n",
       "33        V7IM5\n",
       "35         7JYD\n",
       "37        3FQO9\n",
       "49         CQJG\n",
       "51         BSDU\n",
       "55        V7TM9\n",
       "77        V7TR3\n",
       "83       9V9718\n",
       "89       3E3741\n",
       "93       9V9714\n",
       "95        VRPP8\n",
       "123       C6SI6\n",
       "137      9V9715\n",
       "139        7KAA\n",
       "149       V7QV6\n",
       "157        HORQ\n",
       "185       VROO7\n",
       "197       UBVP6\n",
       "205       VROJ8\n",
       "215      9V9832\n",
       "217        7KAC\n",
       "245     9LD2046\n",
       "265      3E2143\n",
       "301       BTBM3\n",
       "373       3FFR3\n",
       "388       5BUJ4\n",
       "424      3E3743\n",
       "446       5VHX6\n",
       "470     V7A5912\n",
       "514      3E2808\n",
       "610        UHDH\n",
       "634      9V9713\n",
       "808        3EJS\n",
       "828     PORTMIS\n",
       "849      9V9710\n",
       "877      3E2217\n",
       "1065      3FAZ8\n",
       "1073     9V9711\n",
       "Name: 호출부호, dtype: object"
      ]
     },
     "execution_count": 6,
     "metadata": {},
     "output_type": "execute_result"
    }
   ],
   "source": [
    "df2 = df1.drop_duplicates()\n",
    "df2"
   ]
  },
  {
   "cell_type": "code",
   "execution_count": 7,
   "id": "8a6743c0-2997-4f53-b7ea-b712289c6afa",
   "metadata": {},
   "outputs": [],
   "source": [
    "vsl = pd.read_csv('ais_for_waiting_area_vsl_info.csv')"
   ]
  },
  {
   "cell_type": "code",
   "execution_count": 8,
   "id": "7308f4cc-ae91-4fd4-9553-a29efe981ae9",
   "metadata": {},
   "outputs": [
    {
     "data": {
      "text/plain": [
       "<bound method DataFrame.info of                                     VSL_ID         VSL_NAME   VSL_MMSI  \\\n",
       "0     00260274-dbeb-3672-a688-34cfeb851acc    KOTA PAHLAWAN  563033800   \n",
       "1     003756d7-a298-391e-ba9b-d336079996a8     XIN WEN ZHOU  414736000   \n",
       "2     00a3b1cf-589e-39b4-8c26-fc7975e53188      MILD SONATA  477390900   \n",
       "3     00b5ffd0-eec0-3fd1-b0c4-0a4f55ccf412  PACIFIC BEIJING  563156900   \n",
       "4     0146695a-b3e9-3bf1-8cf7-48781657c287        HMM HANUL  636020744   \n",
       "...                                    ...              ...        ...   \n",
       "1330  ff2ea971-7ff0-3c38-bef7-b0799da24ad6      KOTA SANTOS  636019875   \n",
       "1331  ff63da73-f410-347f-98f2-bea23eacce9b     HONG TAI 226  413708120   \n",
       "1332  ffa1afcd-c0a7-3984-bed4-8a76885eb113          INVICTA  538008635   \n",
       "1333  ffe6cded-5a3d-3f48-ade0-4dcdb33f1a8b        TB TOB 03  525015658   \n",
       "1334  fff7cbe3-92da-3e01-89ea-e25f70b8afa8  NIMTOFTE MAERSK  219027758   \n",
       "\n",
       "        VSL_IMO CALL_SIGN      SHIP_TYPE  VSL_LENGTH  VSL_WIDTH  DIMENSIONS_A  \\\n",
       "0     9786712.0    9V5293      CONTAINER       330.0       48.0         107.0   \n",
       "1     9523043.0      BPKJ      CONTAINER       255.0       37.0         199.0   \n",
       "2     9666857.0     VRNF6      CONTAINER       148.0       23.0         130.0   \n",
       "3     9378931.0    9V8000      CONTAINER       148.0       24.0         137.0   \n",
       "4     9869239.0     5LAM7      CONTAINER       366.0       51.0         112.0   \n",
       "...         ...       ...            ...         ...        ...           ...   \n",
       "1330  9293765.0     D5WO7      CONTAINER       334.0       42.0         270.0   \n",
       "1331        0.0      BRAY  GENERAL_CARGO       166.0       25.0         149.0   \n",
       "1332  9822724.0   V7A2600      CONTAINER       172.0       28.0         155.0   \n",
       "1333  8738811.0   YDA6228            TUG       220.0       70.0         120.0   \n",
       "1334  9885166.0     OYLF2      CONTAINER       172.0       32.0         150.0   \n",
       "\n",
       "      DIMENSIONS_B  DIMENSIONS_C  DIMENSIONS_D  GROSS_TONNAGE  \n",
       "0            223.0          30.0          18.0       113976.0  \n",
       "1             56.0          13.0          24.0        47917.0  \n",
       "2             18.0           8.0          15.0         9994.0  \n",
       "3             11.0          10.0          14.0         9940.0  \n",
       "4            254.0          18.0          33.0       153150.0  \n",
       "...            ...           ...           ...            ...  \n",
       "1330          64.0          21.0          21.0        90449.0  \n",
       "1331          17.0          17.0           8.0            NaN  \n",
       "1332          17.0          22.0           6.0        19035.0  \n",
       "1333         100.0          40.0          30.0            NaN  \n",
       "1334          22.0          19.0          13.0        26255.0  \n",
       "\n",
       "[1335 rows x 13 columns]>"
      ]
     },
     "execution_count": 8,
     "metadata": {},
     "output_type": "execute_result"
    }
   ],
   "source": [
    "vsl.info"
   ]
  },
  {
   "cell_type": "code",
   "execution_count": 9,
   "id": "f6bd035e-0b37-4f32-a0e9-2e07ba64a55a",
   "metadata": {},
   "outputs": [
    {
     "name": "stdout",
     "output_type": "stream",
     "text": [
      "                                   VSL_ID       VSL_NAME   VSL_MMSI  \\\n",
      "217  25bf3a35-35c1-3031-9172-c5664cb141f0  XIN XIN HAI 2  412203360   \n",
      "656  73b8062b-7915-348c-92af-a735934022f8       MING YUE  412202870   \n",
      "864  9a6e32af-194b-360c-b426-5bc7d339d46a  PANSTAR GENIE  440642000   \n",
      "866  9ac6da3f-4cac-3c7b-bed5-d826e9999756        BEI HAI  414690000   \n",
      "\n",
      "       VSL_IMO CALL_SIGN          SHIP_TYPE  VSL_LENGTH  VSL_WIDTH  \\\n",
      "217  9623594.0     BTBM3      GENERAL_CARGO       166.0       28.0   \n",
      "656  8882911.0      BATD      GENERAL_CARGO        81.0       16.0   \n",
      "864  9248227.0      D8FB  VEHICLE_PASSENGER       161.0       24.0   \n",
      "866  9397597.0      BSDG      GENERAL_CARGO       117.0       20.0   \n",
      "\n",
      "     DIMENSIONS_A  DIMENSIONS_B  DIMENSIONS_C  DIMENSIONS_D  GROSS_TONNAGE  \n",
      "217         144.0          22.0           8.0          20.0        21270.0  \n",
      "656          58.0          23.0           8.0           8.0         2453.0  \n",
      "864          76.0          85.0          16.0           8.0         7323.0  \n",
      "866          98.0          19.0          10.0          10.0         5272.0  \n"
     ]
    }
   ],
   "source": [
    "matching_rows = vsl[vsl['CALL_SIGN'].isin(df2)]\n",
    "\n",
    "# 일치하는 데이터프레임 출력\n",
    "print(matching_rows)"
   ]
  },
  {
   "cell_type": "code",
   "execution_count": 10,
   "id": "9ceeb88b-a93f-41b4-8ebf-3f452e65a566",
   "metadata": {},
   "outputs": [
    {
     "data": {
      "text/plain": [
       "<bound method DataFrame.info of                                     VSL_ID         VSL_NAME   VSL_MMSI  \\\n",
       "0     00260274-dbeb-3672-a688-34cfeb851acc    KOTA PAHLAWAN  563033800   \n",
       "1     003756d7-a298-391e-ba9b-d336079996a8     XIN WEN ZHOU  414736000   \n",
       "2     00a3b1cf-589e-39b4-8c26-fc7975e53188      MILD SONATA  477390900   \n",
       "3     00b5ffd0-eec0-3fd1-b0c4-0a4f55ccf412  PACIFIC BEIJING  563156900   \n",
       "4     0146695a-b3e9-3bf1-8cf7-48781657c287        HMM HANUL  636020744   \n",
       "...                                    ...              ...        ...   \n",
       "1330  ff2ea971-7ff0-3c38-bef7-b0799da24ad6      KOTA SANTOS  636019875   \n",
       "1331  ff63da73-f410-347f-98f2-bea23eacce9b     HONG TAI 226  413708120   \n",
       "1332  ffa1afcd-c0a7-3984-bed4-8a76885eb113          INVICTA  538008635   \n",
       "1333  ffe6cded-5a3d-3f48-ade0-4dcdb33f1a8b        TB TOB 03  525015658   \n",
       "1334  fff7cbe3-92da-3e01-89ea-e25f70b8afa8  NIMTOFTE MAERSK  219027758   \n",
       "\n",
       "        VSL_IMO CALL_SIGN      SHIP_TYPE  VSL_LENGTH  VSL_WIDTH  DIMENSIONS_A  \\\n",
       "0     9786712.0    9V5293      CONTAINER       330.0       48.0         107.0   \n",
       "1     9523043.0      BPKJ      CONTAINER       255.0       37.0         199.0   \n",
       "2     9666857.0     VRNF6      CONTAINER       148.0       23.0         130.0   \n",
       "3     9378931.0    9V8000      CONTAINER       148.0       24.0         137.0   \n",
       "4     9869239.0     5LAM7      CONTAINER       366.0       51.0         112.0   \n",
       "...         ...       ...            ...         ...        ...           ...   \n",
       "1330  9293765.0     D5WO7      CONTAINER       334.0       42.0         270.0   \n",
       "1331        0.0      BRAY  GENERAL_CARGO       166.0       25.0         149.0   \n",
       "1332  9822724.0   V7A2600      CONTAINER       172.0       28.0         155.0   \n",
       "1333  8738811.0   YDA6228            TUG       220.0       70.0         120.0   \n",
       "1334  9885166.0     OYLF2      CONTAINER       172.0       32.0         150.0   \n",
       "\n",
       "      DIMENSIONS_B  DIMENSIONS_C  DIMENSIONS_D  GROSS_TONNAGE  \n",
       "0            223.0          30.0          18.0       113976.0  \n",
       "1             56.0          13.0          24.0        47917.0  \n",
       "2             18.0           8.0          15.0         9994.0  \n",
       "3             11.0          10.0          14.0         9940.0  \n",
       "4            254.0          18.0          33.0       153150.0  \n",
       "...            ...           ...           ...            ...  \n",
       "1330          64.0          21.0          21.0        90449.0  \n",
       "1331          17.0          17.0           8.0            NaN  \n",
       "1332          17.0          22.0           6.0        19035.0  \n",
       "1333         100.0          40.0          30.0            NaN  \n",
       "1334          22.0          19.0          13.0        26255.0  \n",
       "\n",
       "[1335 rows x 13 columns]>"
      ]
     },
     "execution_count": 10,
     "metadata": {},
     "output_type": "execute_result"
    }
   ],
   "source": [
    "vsl.info"
   ]
  },
  {
   "cell_type": "code",
   "execution_count": 11,
   "id": "6b07e4ff-6898-4a16-b683-44cf19c76cb0",
   "metadata": {},
   "outputs": [],
   "source": [
    "matching_rows.to_csv('match_vsl1.csv', index=False)"
   ]
  }
 ],
 "metadata": {
  "kernelspec": {
   "display_name": "Python 3 (ipykernel)",
   "language": "python",
   "name": "python3"
  },
  "language_info": {
   "codemirror_mode": {
    "name": "ipython",
    "version": 3
   },
   "file_extension": ".py",
   "mimetype": "text/x-python",
   "name": "python",
   "nbconvert_exporter": "python",
   "pygments_lexer": "ipython3",
   "version": "3.11.7"
  }
 },
 "nbformat": 4,
 "nbformat_minor": 5
}
