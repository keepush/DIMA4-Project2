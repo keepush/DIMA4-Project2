{
 "cells": [
  {
   "cell_type": "code",
   "execution_count": 1,
   "id": "b2406b7f-3e3f-49cd-92cd-6ac40d914559",
   "metadata": {},
   "outputs": [],
   "source": [
    "import pandas as pd\n",
    "\n",
    "df = pd.read_excel('인프라 정보.xlsx')\n",
    "df = df.to_csv(\"PortInfoA.csv\")"
   ]
  },
  {
   "cell_type": "code",
   "execution_count": 2,
   "id": "517455b1-822f-4f87-8dc6-eb6199df8446",
   "metadata": {},
   "outputs": [
    {
     "name": "stdout",
     "output_type": "stream",
     "text": [
      "연결 성공\n"
     ]
    }
   ],
   "source": [
    "import mysql.connector\n",
    "\n",
    "# MySQL 데이터베이스에 연결 설정\n",
    "connection = mysql.connector.connect(\n",
    "    host = 'localhost',\n",
    "    user = 'root',\n",
    "    password = 'root',\n",
    "    database = 'project'\n",
    ")\n",
    "\n",
    "# 연결 확인 절차\n",
    "if connection.is_connected():\n",
    "    print(\"연결 성공\")"
   ]
  },
  {
   "cell_type": "code",
   "execution_count": 3,
   "id": "5ef1541e-3c98-4617-95b9-9358f91323ba",
   "metadata": {},
   "outputs": [
    {
     "name": "stdout",
     "output_type": "stream",
     "text": [
      "   Unnamed: 0 port_code  loc_type info  \\\n",
      "0           0     KRPUS         1  정박지   \n",
      "1           1     KRPUS         1  정박지   \n",
      "2           2     KRPUS         1  정박지   \n",
      "3           3     KRPUS         1  정박지   \n",
      "4           4     KRPUS         1  정박지   \n",
      "\n",
      "                                            location  min_ton   max_ton  \n",
      "0  [{lat:35.07645, lng:129.04538}, {lat:35.07645,...  30000.0  200000.0  \n",
      "1  [{lat:35.07645, lng:129.02445}, {lat:35.07645,...  30000.0  200000.0  \n",
      "2  [{lat:35.06336, lng:129.06442}, {lat:35.06336,...  30000.0  200000.0  \n",
      "3  [{lat:35.04841, lng:129.08572}, {lat:35.04430,...  30000.0  200000.0  \n",
      "4  [{lat:35.02686, lng:129.04391}, {lat:35.00319,...  30000.0  200000.0  \n"
     ]
    }
   ],
   "source": [
    "df = pd.read_csv('PortInfoA.csv')\n",
    "\n",
    "print(df.head(5))"
   ]
  },
  {
   "cell_type": "code",
   "execution_count": 7,
   "id": "4e1612f9-9853-4674-ae04-93d7cc8b3667",
   "metadata": {},
   "outputs": [
    {
     "name": "stdout",
     "output_type": "stream",
     "text": [
      "CSV 데이터를 MySQL에 성공적으로 삽입했습니다.\n"
     ]
    }
   ],
   "source": [
    "import numpy as np\n",
    "\n",
    "# MySQL 커서 생성\n",
    "cursor = connection.cursor()\n",
    "\n",
    "# 각 행을 삽입하는 SQL 쿼리 작성\n",
    "for index, row in df.iterrows():\n",
    "    sql = \"\"\"\n",
    "    INSERT INTO PortInfoA (port_code, loc_type, info, location, min_ton, max_ton)\n",
    "    VALUES (%s, %s, %s, %s, %s, %s)\n",
    "    ON DUPLICATE KEY UPDATE\n",
    "    loc_type = VALUES(loc_type),\n",
    "    info = VALUES(info),\n",
    "    location = VALUES(location),\n",
    "    min_ton = VALUES(min_ton),\n",
    "    max_ton = VALUES(max_ton)\n",
    "    \"\"\"\n",
    "    \n",
    "    # NaN 값을 None으로 변환 (MySQL에서는 None이 NULL로 처리됨)\n",
    "    values = (\n",
    "        row['port_code'] if pd.notna(row['port_code']) else None,\n",
    "        row['loc_type'] if pd.notna(row['loc_type']) else None,\n",
    "        row['info'] if pd.notna(row['info']) else None,\n",
    "        row['location'] if pd.notna(row['location']) else None,\n",
    "        row['min_ton'] if pd.notna(row['min_ton']) else None,\n",
    "        row['max_ton'] if pd.notna(row['max_ton']) else None\n",
    "    )\n",
    "    \n",
    "    cursor.execute(sql, values)\n",
    "\n",
    "# 변경 사항을 커밋\n",
    "connection.commit()\n",
    "\n",
    "# 연결 해제\n",
    "cursor.close()\n",
    "connection.close()\n",
    "\n",
    "print(\"CSV 데이터를 MySQL에 성공적으로 삽입했습니다.\")"
   ]
  }
 ],
 "metadata": {
  "kernelspec": {
   "display_name": "Python 3 (ipykernel)",
   "language": "python",
   "name": "python3"
  },
  "language_info": {
   "codemirror_mode": {
    "name": "ipython",
    "version": 3
   },
   "file_extension": ".py",
   "mimetype": "text/x-python",
   "name": "python",
   "nbconvert_exporter": "python",
   "pygments_lexer": "ipython3",
   "version": "3.11.7"
  }
 },
 "nbformat": 4,
 "nbformat_minor": 5
}
