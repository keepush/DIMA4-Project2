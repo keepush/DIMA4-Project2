{
 "cells": [
  {
   "cell_type": "code",
   "execution_count": 1,
   "id": "65c170d9-4f8f-45fb-a5da-21dd2126fa41",
   "metadata": {},
   "outputs": [],
   "source": [
    "import pandas as pd"
   ]
  },
  {
   "cell_type": "code",
   "execution_count": 2,
   "id": "012f6d98-efba-42ca-94a4-f38abf209826",
   "metadata": {},
   "outputs": [],
   "source": [
    "df = pd.read_csv('zzin_last_access.csv')"
   ]
  },
  {
   "cell_type": "code",
   "execution_count": 3,
   "id": "f9e33cc9-ec62-4f44-a71f-548ed8f5aaec",
   "metadata": {},
   "outputs": [
    {
     "name": "stderr",
     "output_type": "stream",
     "text": [
      "C:\\Users\\user\\AppData\\Local\\Temp\\ipykernel_14320\\1065178495.py:5: SettingWithCopyWarning: \n",
      "A value is trying to be set on a copy of a slice from a DataFrame.\n",
      "Try using .loc[row_indexer,col_indexer] = value instead\n",
      "\n",
      "See the caveats in the documentation: https://pandas.pydata.org/pandas-docs/stable/user_guide/indexing.html#returning-a-view-versus-a-copy\n",
      "  df_filtered['loc_type'] = 1\n",
      "C:\\Users\\user\\AppData\\Local\\Temp\\ipykernel_14320\\1065178495.py:8: SettingWithCopyWarning: \n",
      "A value is trying to be set on a copy of a slice from a DataFrame.\n",
      "Try using .loc[row_indexer,col_indexer] = value instead\n",
      "\n",
      "See the caveats in the documentation: https://pandas.pydata.org/pandas-docs/stable/user_guide/indexing.html#returning-a-view-versus-a-copy\n",
      "  df_filtered['location'] = df_filtered.apply(lambda row: f\"{{lat: {row['위도']}, lng: {row['경도']}}}\", axis=1)\n"
     ]
    },
    {
     "data": {
      "text/plain": [
       "[\"INSERT INTO port_table (port_code, loc_type, location) VALUES ('KRPUS', 1, '{lat: 35.125, lng: 129.075}');\",\n",
       " \"INSERT INTO port_table (port_code, loc_type, location) VALUES ('KRBNP', 1, '{lat: 35.125, lng: 129.075}');\",\n",
       " \"INSERT INTO port_table (port_code, loc_type, location) VALUES ('KRPUS', 1, '{lat: 35.075, lng: 129.025}');\",\n",
       " \"INSERT INTO port_table (port_code, loc_type, location) VALUES ('KRBNP', 1, '{lat: 35.075, lng: 129.025}');\",\n",
       " \"INSERT INTO port_table (port_code, loc_type, location) VALUES ('KRPUS', 1, '{lat: 35.075, lng: 128.975}');\",\n",
       " \"INSERT INTO port_table (port_code, loc_type, location) VALUES ('KRBNP', 1, '{lat: 35.075, lng: 128.975}');\",\n",
       " \"INSERT INTO port_table (port_code, loc_type, location) VALUES ('KRBNP', 1, '{lat: 35.075, lng: 128.625}');\",\n",
       " \"INSERT INTO port_table (port_code, loc_type, location) VALUES ('KNINC', 1, '{lat: 37.475, lng: 126.575}');\",\n",
       " \"INSERT INTO port_table (port_code, loc_type, location) VALUES ('KRBNP', 1, '{lat: 34.875, lng: 128.725}');\",\n",
       " \"INSERT INTO port_table (port_code, loc_type, location) VALUES ('KRPUS', 1, '{lat: 35.075, lng: 128.725}');\"]"
      ]
     },
     "execution_count": 3,
     "metadata": {},
     "output_type": "execute_result"
    }
   ],
   "source": [
    "# 범위가 0인 데이터 제외\n",
    "df_filtered = df[df['범위'] != 0]\n",
    "\n",
    "# loc_type은 모두 1로 설정\n",
    "df_filtered['loc_type'] = 1\n",
    "\n",
    "# location 값 설정 {lat: ,lng: } 형식으로 변환\n",
    "df_filtered['location'] = df_filtered.apply(lambda row: f\"{{lat: {row['위도']}, lng: {row['경도']}}}\", axis=1)\n",
    "\n",
    "# SQL 구문 생성\n",
    "sql_queries = []\n",
    "for index, row in df_filtered.iterrows():\n",
    "    if row['범위'] == 1:\n",
    "        sql = f\"INSERT INTO port_table (port_code, loc_type, location) VALUES ('KRPUS', {row['loc_type']}, '{row['location']}');\"\n",
    "        sql_queries.append(sql)\n",
    "    elif row['범위'] == 2:\n",
    "        sql = f\"INSERT INTO port_table (port_code, loc_type, location) VALUES ('KRBNP', {row['loc_type']}, '{row['location']}');\"\n",
    "        sql_queries.append(sql)\n",
    "    elif row['범위'] == 3:\n",
    "        sql = f\"INSERT INTO port_table (port_code, loc_type, location) VALUES ('KNINC', {row['loc_type']}, '{row['location']}');\"\n",
    "        sql_queries.append(sql)\n",
    "    elif row['범위'] == 4:\n",
    "        # 겹치는 경우 KRPUS와 KRBNP에 각각 삽입\n",
    "        sql_krpus = f\"INSERT INTO port_table (port_code, loc_type, location) VALUES ('KRPUS', {row['loc_type']}, '{row['location']}');\"\n",
    "        sql_krbnp = f\"INSERT INTO port_table (port_code, loc_type, location) VALUES ('KRBNP', {row['loc_type']}, '{row['location']}');\"\n",
    "        sql_queries.append(sql_krpus)\n",
    "        sql_queries.append(sql_krbnp)\n",
    "\n",
    "# SQL 구문 리스트에서 결과를 출력 또는 저장\n",
    "sql_queries[:10]  # 예시로 처음 10개 구문 출력"
   ]
  },
  {
   "cell_type": "code",
   "execution_count": 5,
   "id": "44a216f5-76b4-4129-a49b-0a3a7e4f823d",
   "metadata": {},
   "outputs": [
    {
     "name": "stdout",
     "output_type": "stream",
     "text": [
      "데이터가 MySQL에 성공적으로 삽입되었습니다.\n"
     ]
    },
    {
     "name": "stderr",
     "output_type": "stream",
     "text": [
      "C:\\Users\\user\\AppData\\Local\\Temp\\ipykernel_14320\\1569951071.py:25: SettingWithCopyWarning: \n",
      "A value is trying to be set on a copy of a slice from a DataFrame.\n",
      "Try using .loc[row_indexer,col_indexer] = value instead\n",
      "\n",
      "See the caveats in the documentation: https://pandas.pydata.org/pandas-docs/stable/user_guide/indexing.html#returning-a-view-versus-a-copy\n",
      "  df_filtered['loc_type'] = 1\n",
      "C:\\Users\\user\\AppData\\Local\\Temp\\ipykernel_14320\\1569951071.py:28: SettingWithCopyWarning: \n",
      "A value is trying to be set on a copy of a slice from a DataFrame.\n",
      "Try using .loc[row_indexer,col_indexer] = value instead\n",
      "\n",
      "See the caveats in the documentation: https://pandas.pydata.org/pandas-docs/stable/user_guide/indexing.html#returning-a-view-versus-a-copy\n",
      "  df_filtered['location'] = df_filtered.apply(lambda row: f\"{{lat: {row['위도']}, lng: {row['경도']}}}\", axis=1)\n"
     ]
    }
   ],
   "source": [
    "import pandas as pd\n",
    "import mysql.connector\n",
    "\n",
    "# MySQL 연결 설정\n",
    "connection = mysql.connector.connect(\n",
    "    host=\"localhost\",  # MySQL 호스트 (예: localhost)\n",
    "    user=\"root\",  # MySQL 사용자 이름\n",
    "    password=\"root\",  # MySQL 비밀번호\n",
    "    database=\"project\"  # 사용할 데이터베이스 이름\n",
    ")\n",
    "\n",
    "# 커서 생성\n",
    "cursor = connection.cursor()\n",
    "\n",
    "# CSV 파일 경로\n",
    "file_path = 'zzin_last_access.csv'\n",
    "\n",
    "# CSV 파일 읽기\n",
    "df = pd.read_csv(file_path)\n",
    "\n",
    "# 범위가 0인 데이터 제외\n",
    "df_filtered = df[df['범위'] != 0]\n",
    "\n",
    "# loc_type은 모두 1로 설정\n",
    "df_filtered['loc_type'] = 1\n",
    "\n",
    "# location 값 설정 {lat: ,lng: } 형식으로 변환\n",
    "df_filtered['location'] = df_filtered.apply(lambda row: f\"{{lat: {row['위도']}, lng: {row['경도']}}}\", axis=1)\n",
    "\n",
    "# SQL 구문 실행\n",
    "for index, row in df_filtered.iterrows():\n",
    "    if row['범위'] == 1:\n",
    "        sql = f\"INSERT INTO PortInfoB (port_code, loc_type, location) VALUES ('KRPUS', {row['loc_type']}, '{row['location']}');\"\n",
    "        cursor.execute(sql)\n",
    "    elif row['범위'] == 2:\n",
    "        sql = f\"INSERT INTO PortInfoB (port_code, loc_type, location) VALUES ('KRBNP', {row['loc_type']}, '{row['location']}');\"\n",
    "        cursor.execute(sql)\n",
    "    elif row['범위'] == 3:\n",
    "        sql = f\"INSERT INTO PortInfoB (port_code, loc_type, location) VALUES ('KNINC', {row['loc_type']}, '{row['location']}');\"\n",
    "        cursor.execute(sql)\n",
    "    elif row['범위'] == 4:\n",
    "        # 겹치는 경우 KRPUS와 KRBNP에 각각 삽입\n",
    "        sql_krpus = f\"INSERT INTO PortInfoB (port_code, loc_type, location) VALUES ('KRPUS', {row['loc_type']}, '{row['location']}');\"\n",
    "        sql_krbnp = f\"INSERT INTO PortInfoB (port_code, loc_type, location) VALUES ('KRBNP', {row['loc_type']}, '{row['location']}');\"\n",
    "        cursor.execute(sql_krpus)\n",
    "        cursor.execute(sql_krbnp)\n",
    "\n",
    "# 변경 사항을 커밋\n",
    "connection.commit()\n",
    "\n",
    "# 커서 및 연결 종료\n",
    "cursor.close()\n",
    "connection.close()\n",
    "\n",
    "print(\"데이터가 MySQL에 성공적으로 삽입되었습니다.\")"
   ]
  }
 ],
 "metadata": {
  "kernelspec": {
   "display_name": "Python 3 (ipykernel)",
   "language": "python",
   "name": "python3"
  },
  "language_info": {
   "codemirror_mode": {
    "name": "ipython",
    "version": 3
   },
   "file_extension": ".py",
   "mimetype": "text/x-python",
   "name": "python",
   "nbconvert_exporter": "python",
   "pygments_lexer": "ipython3",
   "version": "3.11.7"
  }
 },
 "nbformat": 4,
 "nbformat_minor": 5
}
